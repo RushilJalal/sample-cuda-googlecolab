{
  "nbformat": 4,
  "nbformat_minor": 0,
  "metadata": {
    "colab": {
      "provenance": [],
      "gpuType": "T4",
      "authorship_tag": "ABX9TyOg9B9boXSxEcEjeUz6Oz8T",
      "include_colab_link": true
    },
    "kernelspec": {
      "name": "python3",
      "display_name": "Python 3"
    },
    "language_info": {
      "name": "python"
    },
    "accelerator": "GPU"
  },
  "cells": [
    {
      "cell_type": "markdown",
      "metadata": {
        "id": "view-in-github",
        "colab_type": "text"
      },
      "source": [
        "<a href=\"https://colab.research.google.com/github/RushilJalal/sample-cuda-googlecolab/blob/main/practice_cuda.ipynb\" target=\"_parent\"><img src=\"https://colab.research.google.com/assets/colab-badge.svg\" alt=\"Open In Colab\"/></a>"
      ]
    },
    {
      "cell_type": "code",
      "execution_count": 1,
      "metadata": {
        "colab": {
          "base_uri": "https://localhost:8080/"
        },
        "id": "Oxk3FCWAtxA0",
        "outputId": "913b6227-910c-4bf1-ef1a-2701093bd26c"
      },
      "outputs": [
        {
          "output_type": "stream",
          "name": "stdout",
          "text": [
            "nvcc: NVIDIA (R) Cuda compiler driver\n",
            "Copyright (c) 2005-2024 NVIDIA Corporation\n",
            "Built on Thu_Jun__6_02:18:23_PDT_2024\n",
            "Cuda compilation tools, release 12.5, V12.5.82\n",
            "Build cuda_12.5.r12.5/compiler.34385749_0\n",
            "Thu Oct 23 06:09:07 2025       \n",
            "+-----------------------------------------------------------------------------------------+\n",
            "| NVIDIA-SMI 550.54.15              Driver Version: 550.54.15      CUDA Version: 12.4     |\n",
            "|-----------------------------------------+------------------------+----------------------+\n",
            "| GPU  Name                 Persistence-M | Bus-Id          Disp.A | Volatile Uncorr. ECC |\n",
            "| Fan  Temp   Perf          Pwr:Usage/Cap |           Memory-Usage | GPU-Util  Compute M. |\n",
            "|                                         |                        |               MIG M. |\n",
            "|=========================================+========================+======================|\n",
            "|   0  Tesla T4                       Off |   00000000:00:04.0 Off |                    0 |\n",
            "| N/A   54C    P8             10W /   70W |       0MiB /  15360MiB |      0%      Default |\n",
            "|                                         |                        |                  N/A |\n",
            "+-----------------------------------------+------------------------+----------------------+\n",
            "                                                                                         \n",
            "+-----------------------------------------------------------------------------------------+\n",
            "| Processes:                                                                              |\n",
            "|  GPU   GI   CI        PID   Type   Process name                              GPU Memory |\n",
            "|        ID   ID                                                               Usage      |\n",
            "|=========================================================================================|\n",
            "|  No running processes found                                                             |\n",
            "+-----------------------------------------------------------------------------------------+\n"
          ]
        }
      ],
      "source": [
        "!nvcc --version\n",
        "!nvidia-smi"
      ]
    },
    {
      "cell_type": "code",
      "source": [
        "!pip install nvcc4jupyter\n",
        "%load_ext nvcc4jupyter"
      ],
      "metadata": {
        "colab": {
          "base_uri": "https://localhost:8080/"
        },
        "id": "bERBSCjx_lWx",
        "outputId": "a5857ba1-febd-4729-a520-bd058dad878c"
      },
      "execution_count": 2,
      "outputs": [
        {
          "output_type": "stream",
          "name": "stdout",
          "text": [
            "Collecting nvcc4jupyter\n",
            "  Downloading nvcc4jupyter-1.2.1-py3-none-any.whl.metadata (5.1 kB)\n",
            "Downloading nvcc4jupyter-1.2.1-py3-none-any.whl (10 kB)\n",
            "Installing collected packages: nvcc4jupyter\n",
            "Successfully installed nvcc4jupyter-1.2.1\n",
            "Detected platform \"Colab\". Running its setup...\n",
            "Source files will be saved in \"/tmp/tmp9mi7s8b3\".\n"
          ]
        }
      ]
    },
    {
      "cell_type": "code",
      "source": [
        "%%cuda -c \"-I /does/not/exist -arch sm_75\"\n",
        "#include <stdio.h>\n",
        "\n",
        "__global__ void add(int* a, int* b, int* c){\n",
        "    int tid = threadIdx.x;\n",
        "    c[tid] = a[tid] + b[tid];\n",
        "}\n",
        "\n",
        "int main() {\n",
        "    int a[] = {1,2,3,4,5};\n",
        "    int b[] = {1,2,3,4,5};\n",
        "    int c[5];\n",
        "\n",
        "    int *d_a, *d_b, *d_c;\n",
        "    cudaMalloc(&d_a, sizeof(int) * 5);\n",
        "    cudaMalloc(&d_b, sizeof(int) * 5);\n",
        "    cudaMalloc(&d_c, sizeof(int) * 5);\n",
        "\n",
        "    cudaMemcpy(d_a, a, sizeof(int) * 5, cudaMemcpyHostToDevice);\n",
        "    cudaMemcpy(d_b, b, sizeof(int) * 5, cudaMemcpyHostToDevice);\n",
        "\n",
        "    add<<<1, 5>>>(d_a,d_b,d_c);\n",
        "\n",
        "    cudaMemcpy(c, d_c, sizeof(int) * 5, cudaMemcpyDeviceToHost);\n",
        "\n",
        "    for(int i = 0; i < 5; i++){\n",
        "        printf(\"%d\\n\", c[i]);\n",
        "    }\n",
        "\n",
        "    // wait for the execution of the asynchronous \"hello\" function call to finish\n",
        "    cudaDeviceSynchronize();\n",
        "}\n"
      ],
      "metadata": {
        "id": "MdyR3xg4uYvM",
        "colab": {
          "base_uri": "https://localhost:8080/"
        },
        "outputId": "e4e94de6-d2b0-449f-d6d6-4ac8633e9834"
      },
      "execution_count": 11,
      "outputs": [
        {
          "output_type": "stream",
          "name": "stdout",
          "text": [
            "2\n",
            "4\n",
            "6\n",
            "8\n",
            "10\n",
            "\n"
          ]
        }
      ]
    }
  ]
}